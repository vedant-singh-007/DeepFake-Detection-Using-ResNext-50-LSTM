{
  "nbformat": 4,
  "nbformat_minor": 0,
  "metadata": {
    "colab": {
      "provenance": [],
      "gpuType": "T4",
      "mount_file_id": "1s8sT3WeLliQkX8pgMbD1SSYWOdwR0TR-",
      "authorship_tag": "ABX9TyO4FTary8QD29vIz2llnJET",
      "include_colab_link": true
    },
    "kernelspec": {
      "name": "python3",
      "display_name": "Python 3"
    },
    "language_info": {
      "name": "python"
    },
    "accelerator": "GPU"
  },
  "cells": [
    {
      "cell_type": "markdown",
      "metadata": {
        "id": "view-in-github",
        "colab_type": "text"
      },
      "source": [
        "<a href=\"https://colab.research.google.com/github/vedant-singh-007/DeepFake-Detection-Using-ResNext-50-LSTM/blob/main/Model_Training.ipynb\" target=\"_parent\"><img src=\"https://colab.research.google.com/assets/colab-badge.svg\" alt=\"Open In Colab\"/></a>"
      ]
    },
    {
      "cell_type": "code",
      "execution_count": 17,
      "metadata": {
        "colab": {
          "base_uri": "https://localhost:8080/"
        },
        "id": "hDXgftX1szO3",
        "outputId": "bf7a1736-796b-410b-c0c3-7f45de6541ee"
      },
      "outputs": [
        {
          "output_type": "stream",
          "name": "stdout",
          "text": [
            "Drive already mounted at /content/drive; to attempt to forcibly remount, call drive.mount(\"/content/drive\", force_remount=True).\n"
          ]
        }
      ],
      "source": [
        "from google.colab import drive\n",
        "drive.mount('/content/drive')\n"
      ]
    },
    {
      "cell_type": "code",
      "source": [
        "import os\n",
        "import cv2\n",
        "import numpy as np\n",
        "from tqdm import tqdm\n",
        "import pandas as pd\n",
        "from glob import glob\n"
      ],
      "metadata": {
        "id": "aVb1bIfTy3i9"
      },
      "execution_count": 18,
      "outputs": []
    },
    {
      "cell_type": "code",
      "source": [
        "import os\n",
        "\n",
        "# Adjust the path based on actual folder location\n",
        "fake_folder = '/content/drive/MyDrive/fake_vids'\n",
        "real_folder = '/content/drive/MyDrive/real_vids'\n",
        "\n",
        "# Check if paths exist\n",
        "print(\"Fake folder exists:\", os.path.exists(fake_folder))\n",
        "print(\"Real folder exists:\", os.path.exists(real_folder))\n"
      ],
      "metadata": {
        "colab": {
          "base_uri": "https://localhost:8080/"
        },
        "id": "yCQsGh7qwRou",
        "outputId": "943df632-f82d-4b66-dc0b-b062e076bcfa"
      },
      "execution_count": 19,
      "outputs": [
        {
          "output_type": "stream",
          "name": "stdout",
          "text": [
            "Fake folder exists: True\n",
            "Real folder exists: True\n"
          ]
        }
      ]
    },
    {
      "cell_type": "code",
      "source": [
        "from glob import glob\n",
        "\n",
        "fake_videos = sorted(glob(os.path.join(fake_folder, '*.mp4')))\n",
        "real_videos = sorted(glob(os.path.join(real_folder, '*.mp4')))\n",
        "\n",
        "print(\"Number of fake videos:\", len(fake_videos))\n",
        "print(\"Number of real videos:\", len(real_videos))\n"
      ],
      "metadata": {
        "colab": {
          "base_uri": "https://localhost:8080/"
        },
        "id": "57IUSxixwTb5",
        "outputId": "52761280-677b-4fff-8e6f-6aa7829502a9"
      },
      "execution_count": 20,
      "outputs": [
        {
          "output_type": "stream",
          "name": "stdout",
          "text": [
            "Number of fake videos: 53\n",
            "Number of real videos: 53\n"
          ]
        }
      ]
    },
    {
      "cell_type": "code",
      "source": [
        "all_videos = fake_videos + real_videos\n",
        "labels = [1]*len(fake_videos) + [0]*len(real_videos)  # 1 = Fake, 0 = Real\n",
        "\n",
        "# Example:\n",
        "for video, label in zip(all_videos[:5], labels[:5]):\n",
        "    print(f\"{video} -> {'Fake' if label == 1 else 'Real'}\")\n"
      ],
      "metadata": {
        "colab": {
          "base_uri": "https://localhost:8080/"
        },
        "id": "DOqVTKXMwe16",
        "outputId": "ebf56a3b-bf69-43bb-f37d-7ba15b163493"
      },
      "execution_count": 21,
      "outputs": [
        {
          "output_type": "stream",
          "name": "stdout",
          "text": [
            "/content/drive/MyDrive/fake_vids/Copy of vs1.mp4 -> Fake\n",
            "/content/drive/MyDrive/fake_vids/Copy of vs10.mp4 -> Fake\n",
            "/content/drive/MyDrive/fake_vids/Copy of vs11.mp4 -> Fake\n",
            "/content/drive/MyDrive/fake_vids/Copy of vs12.mp4 -> Fake\n",
            "/content/drive/MyDrive/fake_vids/Copy of vs13.mp4 -> Fake\n"
          ]
        }
      ]
    },
    {
      "cell_type": "code",
      "source": [
        "frame_count = []\n",
        "for video_file in all_videos:\n",
        "  cap = cv2.VideoCapture(video_file)\n",
        "  frame_count.append(int(cap.get(cv2.CAP_PROP_FRAME_COUNT)))\n",
        "print(\"frames are \" , frame_count)\n",
        "print(\"Total no of video: \" , len(frame_count))\n",
        "print('Average frame per video:',np.mean(frame_count))"
      ],
      "metadata": {
        "colab": {
          "base_uri": "https://localhost:8080/"
        },
        "id": "pBVseZm64Yf4",
        "outputId": "dc32fd59-909e-43cb-d314-2147db8ede90"
      },
      "execution_count": 22,
      "outputs": [
        {
          "output_type": "stream",
          "name": "stdout",
          "text": [
            "frames are  [82, 110, 82, 101, 81, 85, 64, 79, 100, 102, 96, 100, 96, 78, 175, 100, 98, 102, 119, 102, 85, 127, 120, 74, 171, 114, 118, 92, 100, 92, 97, 150, 90, 94, 98, 104, 102, 102, 96, 102, 100, 92, 96, 79, 116, 99, 116, 104, 110, 81, 94, 79, 115, 81, 109, 81, 101, 80, 84, 64, 78, 100, 101, 95, 100, 95, 77, 174, 100, 98, 101, 118, 101, 84, 125, 120, 74, 171, 114, 118, 92, 100, 92, 96, 150, 90, 94, 98, 103, 101, 101, 95, 101, 100, 92, 96, 77, 116, 98, 116, 103, 109, 80, 94, 78, 115]\n",
            "Total no of video:  106\n",
            "Average frame per video: 100.86792452830188\n"
          ]
        }
      ]
    },
    {
      "cell_type": "code",
      "source": [
        "output_video_folder = \"/content/drive/MyDrive/cropped_face_videos\"\n",
        "os.makedirs(output_video_folder, exist_ok=True)\n",
        "\n",
        "label_file_path = os.path.join(output_video_folder, \"labels.csv\")\n",
        "label_entries = []\n"
      ],
      "metadata": {
        "id": "OpIK5bGfykTq"
      },
      "execution_count": 6,
      "outputs": []
    },
    {
      "cell_type": "code",
      "source": [
        "import cv2\n",
        "\n",
        "def process_video_to_output(video_path, output_folder, label, max_frames=100, size=(224, 224)):\n",
        "    cap = cv2.VideoCapture(video_path)\n",
        "    frames = []\n",
        "\n",
        "    video_name = os.path.splitext(os.path.basename(video_path))[0]\n",
        "\n",
        "    while True:\n",
        "        ret, frame = cap.read()\n",
        "        if not ret:\n",
        "            break\n",
        "\n",
        "        gray = cv2.cvtColor(frame, cv2.COLOR_BGR2GRAY)\n",
        "        faces = face_cascade.detectMultiScale(gray, scaleFactor=1.3, minNeighbors=5)\n",
        "\n",
        "        if len(faces) > 0:\n",
        "            x, y, w, h = sorted(faces, key=lambda f: f[2]*f[3], reverse=True)[0]\n",
        "            face_crop = frame[y:y+h, x:x+w]\n",
        "            face_crop = cv2.resize(face_crop, size)\n",
        "            frames.append(face_crop)\n",
        "\n",
        "    cap.release()\n",
        "\n",
        "    if len(frames) == 0:\n",
        "        print(f\"Skipping: {video_name} (no face detected)\")\n",
        "        return None\n",
        "\n",
        "    if len(frames) < max_frames:\n",
        "        last_frame = frames[-1]\n",
        "        frames += [last_frame] * (max_frames - len(frames))\n",
        "    else:\n",
        "        frames = frames[:max_frames]\n",
        "\n",
        "    # Write output video\n",
        "    output_path = os.path.join(output_folder, f\"{video_name}.mp4\")\n",
        "    fourcc = cv2.VideoWriter_fourcc(*'mp4v')\n",
        "    out = cv2.VideoWriter(output_path, fourcc, 25.0, size)\n",
        "\n",
        "    for frame in frames:\n",
        "        out.write(frame)\n",
        "    out.release()\n",
        "\n",
        "    return video_name, label\n"
      ],
      "metadata": {
        "id": "juHf0PzmwsvE"
      },
      "execution_count": 23,
      "outputs": []
    },
    {
      "cell_type": "code",
      "source": [
        "from tqdm import tqdm\n",
        "import cv2 # Ensure cv2 is imported if not already in this cell\n",
        "import os # Ensure os is imported if not already in this cell\n",
        "from glob import glob # Ensure glob is imported if not already in this cell\n",
        "\n",
        "# Download the Haar Cascade file if you don't have it\n",
        "# You might need to run this only once\n",
        "!wget https://raw.githubusercontent.com/opencv/opencv/master/data/haarcascades/haarcascade_frontalface_default.xml -P /content/\n",
        "\n",
        "# Initialize the face cascade classifier\n",
        "face_cascade = cv2.CascadeClassifier('/content/haarcascade_frontalface_default.xml')\n",
        "\n",
        "# Check if the cascade file loaded correctly\n",
        "if face_cascade.empty():\n",
        "    print(\"Error loading cascade classifier!\")\n",
        "\n",
        "fake_folder = '/content/drive/MyDrive/fake_vids'\n",
        "real_folder = '/content/drive/MyDrive/real_vids'\n",
        "\n",
        "fake_videos = sorted(glob(os.path.join(fake_folder, '*.mp4')))\n",
        "real_videos = sorted(glob(os.path.join(real_folder, '*.mp4')))\n",
        "\n",
        "all_video_paths = [(path, 1) for path in fake_videos] + [(path, 0) for path in real_videos]\n",
        "\n",
        "# Ensure the process_video_to_output function definition from the previous cell is run\n",
        "# before running the loop below.\n",
        "\n",
        "for path, label in tqdm(all_video_paths):\n",
        "    result = process_video_to_output(path, output_video_folder, label)\n",
        "    if result:\n",
        "        video_name, label = result\n",
        "        label_entries.append((video_name, label))\n",
        "\n",
        "# You may want to save label_entries to a CSV file after the loop finishes\n",
        "# df_labels = pd.DataFrame(label_entries, columns=['video_name', 'label'])\n",
        "# df_labels.to_csv(label_file_path, index=False)"
      ],
      "metadata": {
        "colab": {
          "base_uri": "https://localhost:8080/"
        },
        "id": "Diw0Ly4Dx8Ug",
        "outputId": "6bfb2129-8f0e-492c-c302-933dc9ce6d37"
      },
      "execution_count": 8,
      "outputs": [
        {
          "output_type": "stream",
          "name": "stdout",
          "text": [
            "--2025-05-19 18:34:39--  https://raw.githubusercontent.com/opencv/opencv/master/data/haarcascades/haarcascade_frontalface_default.xml\n",
            "Resolving raw.githubusercontent.com (raw.githubusercontent.com)... 185.199.110.133, 185.199.109.133, 185.199.108.133, ...\n",
            "Connecting to raw.githubusercontent.com (raw.githubusercontent.com)|185.199.110.133|:443... connected.\n",
            "HTTP request sent, awaiting response... 200 OK\n",
            "Length: 930127 (908K) [text/plain]\n",
            "Saving to: ‘/content/haarcascade_frontalface_default.xml’\n",
            "\n",
            "\r          haarcasca   0%[                    ]       0  --.-KB/s               \rhaarcascade_frontal 100%[===================>] 908.33K  --.-KB/s    in 0.03s   \n",
            "\n",
            "2025-05-19 18:34:39 (33.5 MB/s) - ‘/content/haarcascade_frontalface_default.xml’ saved [930127/930127]\n",
            "\n"
          ]
        },
        {
          "output_type": "stream",
          "name": "stderr",
          "text": [
            "100%|██████████| 106/106 [22:24<00:00, 12.69s/it]\n"
          ]
        }
      ]
    },
    {
      "cell_type": "code",
      "source": [
        "\n",
        "df_labels = pd.DataFrame(label_entries, columns=['video_name', 'label'])\n",
        "df_labels.to_csv(label_file_path, index=False)"
      ],
      "metadata": {
        "id": "6rSRgC_G6E2n"
      },
      "execution_count": 24,
      "outputs": []
    },
    {
      "cell_type": "code",
      "source": [
        "df_labels"
      ],
      "metadata": {
        "colab": {
          "base_uri": "https://localhost:8080/",
          "height": 423
        },
        "id": "Bv5WGMtE6Owd",
        "outputId": "ef62f6ab-5bcb-4ce6-9c7e-a0c6ad2faf2d"
      },
      "execution_count": 25,
      "outputs": [
        {
          "output_type": "execute_result",
          "data": {
            "text/plain": [
              "       video_name  label\n",
              "0     Copy of vs1      1\n",
              "1    Copy of vs10      1\n",
              "2    Copy of vs11      1\n",
              "3    Copy of vs12      1\n",
              "4    Copy of vs13      1\n",
              "..            ...    ...\n",
              "101   Copy of v53      0\n",
              "102    Copy of v6      0\n",
              "103    Copy of v7      0\n",
              "104    Copy of v8      0\n",
              "105    Copy of v9      0\n",
              "\n",
              "[106 rows x 2 columns]"
            ],
            "text/html": [
              "\n",
              "  <div id=\"df-199997bb-83e3-4cf6-8625-3fea92dbdfe4\" class=\"colab-df-container\">\n",
              "    <div>\n",
              "<style scoped>\n",
              "    .dataframe tbody tr th:only-of-type {\n",
              "        vertical-align: middle;\n",
              "    }\n",
              "\n",
              "    .dataframe tbody tr th {\n",
              "        vertical-align: top;\n",
              "    }\n",
              "\n",
              "    .dataframe thead th {\n",
              "        text-align: right;\n",
              "    }\n",
              "</style>\n",
              "<table border=\"1\" class=\"dataframe\">\n",
              "  <thead>\n",
              "    <tr style=\"text-align: right;\">\n",
              "      <th></th>\n",
              "      <th>video_name</th>\n",
              "      <th>label</th>\n",
              "    </tr>\n",
              "  </thead>\n",
              "  <tbody>\n",
              "    <tr>\n",
              "      <th>0</th>\n",
              "      <td>Copy of vs1</td>\n",
              "      <td>1</td>\n",
              "    </tr>\n",
              "    <tr>\n",
              "      <th>1</th>\n",
              "      <td>Copy of vs10</td>\n",
              "      <td>1</td>\n",
              "    </tr>\n",
              "    <tr>\n",
              "      <th>2</th>\n",
              "      <td>Copy of vs11</td>\n",
              "      <td>1</td>\n",
              "    </tr>\n",
              "    <tr>\n",
              "      <th>3</th>\n",
              "      <td>Copy of vs12</td>\n",
              "      <td>1</td>\n",
              "    </tr>\n",
              "    <tr>\n",
              "      <th>4</th>\n",
              "      <td>Copy of vs13</td>\n",
              "      <td>1</td>\n",
              "    </tr>\n",
              "    <tr>\n",
              "      <th>...</th>\n",
              "      <td>...</td>\n",
              "      <td>...</td>\n",
              "    </tr>\n",
              "    <tr>\n",
              "      <th>101</th>\n",
              "      <td>Copy of v53</td>\n",
              "      <td>0</td>\n",
              "    </tr>\n",
              "    <tr>\n",
              "      <th>102</th>\n",
              "      <td>Copy of v6</td>\n",
              "      <td>0</td>\n",
              "    </tr>\n",
              "    <tr>\n",
              "      <th>103</th>\n",
              "      <td>Copy of v7</td>\n",
              "      <td>0</td>\n",
              "    </tr>\n",
              "    <tr>\n",
              "      <th>104</th>\n",
              "      <td>Copy of v8</td>\n",
              "      <td>0</td>\n",
              "    </tr>\n",
              "    <tr>\n",
              "      <th>105</th>\n",
              "      <td>Copy of v9</td>\n",
              "      <td>0</td>\n",
              "    </tr>\n",
              "  </tbody>\n",
              "</table>\n",
              "<p>106 rows × 2 columns</p>\n",
              "</div>\n",
              "    <div class=\"colab-df-buttons\">\n",
              "\n",
              "  <div class=\"colab-df-container\">\n",
              "    <button class=\"colab-df-convert\" onclick=\"convertToInteractive('df-199997bb-83e3-4cf6-8625-3fea92dbdfe4')\"\n",
              "            title=\"Convert this dataframe to an interactive table.\"\n",
              "            style=\"display:none;\">\n",
              "\n",
              "  <svg xmlns=\"http://www.w3.org/2000/svg\" height=\"24px\" viewBox=\"0 -960 960 960\">\n",
              "    <path d=\"M120-120v-720h720v720H120Zm60-500h600v-160H180v160Zm220 220h160v-160H400v160Zm0 220h160v-160H400v160ZM180-400h160v-160H180v160Zm440 0h160v-160H620v160ZM180-180h160v-160H180v160Zm440 0h160v-160H620v160Z\"/>\n",
              "  </svg>\n",
              "    </button>\n",
              "\n",
              "  <style>\n",
              "    .colab-df-container {\n",
              "      display:flex;\n",
              "      gap: 12px;\n",
              "    }\n",
              "\n",
              "    .colab-df-convert {\n",
              "      background-color: #E8F0FE;\n",
              "      border: none;\n",
              "      border-radius: 50%;\n",
              "      cursor: pointer;\n",
              "      display: none;\n",
              "      fill: #1967D2;\n",
              "      height: 32px;\n",
              "      padding: 0 0 0 0;\n",
              "      width: 32px;\n",
              "    }\n",
              "\n",
              "    .colab-df-convert:hover {\n",
              "      background-color: #E2EBFA;\n",
              "      box-shadow: 0px 1px 2px rgba(60, 64, 67, 0.3), 0px 1px 3px 1px rgba(60, 64, 67, 0.15);\n",
              "      fill: #174EA6;\n",
              "    }\n",
              "\n",
              "    .colab-df-buttons div {\n",
              "      margin-bottom: 4px;\n",
              "    }\n",
              "\n",
              "    [theme=dark] .colab-df-convert {\n",
              "      background-color: #3B4455;\n",
              "      fill: #D2E3FC;\n",
              "    }\n",
              "\n",
              "    [theme=dark] .colab-df-convert:hover {\n",
              "      background-color: #434B5C;\n",
              "      box-shadow: 0px 1px 3px 1px rgba(0, 0, 0, 0.15);\n",
              "      filter: drop-shadow(0px 1px 2px rgba(0, 0, 0, 0.3));\n",
              "      fill: #FFFFFF;\n",
              "    }\n",
              "  </style>\n",
              "\n",
              "    <script>\n",
              "      const buttonEl =\n",
              "        document.querySelector('#df-199997bb-83e3-4cf6-8625-3fea92dbdfe4 button.colab-df-convert');\n",
              "      buttonEl.style.display =\n",
              "        google.colab.kernel.accessAllowed ? 'block' : 'none';\n",
              "\n",
              "      async function convertToInteractive(key) {\n",
              "        const element = document.querySelector('#df-199997bb-83e3-4cf6-8625-3fea92dbdfe4');\n",
              "        const dataTable =\n",
              "          await google.colab.kernel.invokeFunction('convertToInteractive',\n",
              "                                                    [key], {});\n",
              "        if (!dataTable) return;\n",
              "\n",
              "        const docLinkHtml = 'Like what you see? Visit the ' +\n",
              "          '<a target=\"_blank\" href=https://colab.research.google.com/notebooks/data_table.ipynb>data table notebook</a>'\n",
              "          + ' to learn more about interactive tables.';\n",
              "        element.innerHTML = '';\n",
              "        dataTable['output_type'] = 'display_data';\n",
              "        await google.colab.output.renderOutput(dataTable, element);\n",
              "        const docLink = document.createElement('div');\n",
              "        docLink.innerHTML = docLinkHtml;\n",
              "        element.appendChild(docLink);\n",
              "      }\n",
              "    </script>\n",
              "  </div>\n",
              "\n",
              "\n",
              "    <div id=\"df-6ce7b01c-2c39-4e96-b5a3-87fd20d2401b\">\n",
              "      <button class=\"colab-df-quickchart\" onclick=\"quickchart('df-6ce7b01c-2c39-4e96-b5a3-87fd20d2401b')\"\n",
              "                title=\"Suggest charts\"\n",
              "                style=\"display:none;\">\n",
              "\n",
              "<svg xmlns=\"http://www.w3.org/2000/svg\" height=\"24px\"viewBox=\"0 0 24 24\"\n",
              "     width=\"24px\">\n",
              "    <g>\n",
              "        <path d=\"M19 3H5c-1.1 0-2 .9-2 2v14c0 1.1.9 2 2 2h14c1.1 0 2-.9 2-2V5c0-1.1-.9-2-2-2zM9 17H7v-7h2v7zm4 0h-2V7h2v10zm4 0h-2v-4h2v4z\"/>\n",
              "    </g>\n",
              "</svg>\n",
              "      </button>\n",
              "\n",
              "<style>\n",
              "  .colab-df-quickchart {\n",
              "      --bg-color: #E8F0FE;\n",
              "      --fill-color: #1967D2;\n",
              "      --hover-bg-color: #E2EBFA;\n",
              "      --hover-fill-color: #174EA6;\n",
              "      --disabled-fill-color: #AAA;\n",
              "      --disabled-bg-color: #DDD;\n",
              "  }\n",
              "\n",
              "  [theme=dark] .colab-df-quickchart {\n",
              "      --bg-color: #3B4455;\n",
              "      --fill-color: #D2E3FC;\n",
              "      --hover-bg-color: #434B5C;\n",
              "      --hover-fill-color: #FFFFFF;\n",
              "      --disabled-bg-color: #3B4455;\n",
              "      --disabled-fill-color: #666;\n",
              "  }\n",
              "\n",
              "  .colab-df-quickchart {\n",
              "    background-color: var(--bg-color);\n",
              "    border: none;\n",
              "    border-radius: 50%;\n",
              "    cursor: pointer;\n",
              "    display: none;\n",
              "    fill: var(--fill-color);\n",
              "    height: 32px;\n",
              "    padding: 0;\n",
              "    width: 32px;\n",
              "  }\n",
              "\n",
              "  .colab-df-quickchart:hover {\n",
              "    background-color: var(--hover-bg-color);\n",
              "    box-shadow: 0 1px 2px rgba(60, 64, 67, 0.3), 0 1px 3px 1px rgba(60, 64, 67, 0.15);\n",
              "    fill: var(--button-hover-fill-color);\n",
              "  }\n",
              "\n",
              "  .colab-df-quickchart-complete:disabled,\n",
              "  .colab-df-quickchart-complete:disabled:hover {\n",
              "    background-color: var(--disabled-bg-color);\n",
              "    fill: var(--disabled-fill-color);\n",
              "    box-shadow: none;\n",
              "  }\n",
              "\n",
              "  .colab-df-spinner {\n",
              "    border: 2px solid var(--fill-color);\n",
              "    border-color: transparent;\n",
              "    border-bottom-color: var(--fill-color);\n",
              "    animation:\n",
              "      spin 1s steps(1) infinite;\n",
              "  }\n",
              "\n",
              "  @keyframes spin {\n",
              "    0% {\n",
              "      border-color: transparent;\n",
              "      border-bottom-color: var(--fill-color);\n",
              "      border-left-color: var(--fill-color);\n",
              "    }\n",
              "    20% {\n",
              "      border-color: transparent;\n",
              "      border-left-color: var(--fill-color);\n",
              "      border-top-color: var(--fill-color);\n",
              "    }\n",
              "    30% {\n",
              "      border-color: transparent;\n",
              "      border-left-color: var(--fill-color);\n",
              "      border-top-color: var(--fill-color);\n",
              "      border-right-color: var(--fill-color);\n",
              "    }\n",
              "    40% {\n",
              "      border-color: transparent;\n",
              "      border-right-color: var(--fill-color);\n",
              "      border-top-color: var(--fill-color);\n",
              "    }\n",
              "    60% {\n",
              "      border-color: transparent;\n",
              "      border-right-color: var(--fill-color);\n",
              "    }\n",
              "    80% {\n",
              "      border-color: transparent;\n",
              "      border-right-color: var(--fill-color);\n",
              "      border-bottom-color: var(--fill-color);\n",
              "    }\n",
              "    90% {\n",
              "      border-color: transparent;\n",
              "      border-bottom-color: var(--fill-color);\n",
              "    }\n",
              "  }\n",
              "</style>\n",
              "\n",
              "      <script>\n",
              "        async function quickchart(key) {\n",
              "          const quickchartButtonEl =\n",
              "            document.querySelector('#' + key + ' button');\n",
              "          quickchartButtonEl.disabled = true;  // To prevent multiple clicks.\n",
              "          quickchartButtonEl.classList.add('colab-df-spinner');\n",
              "          try {\n",
              "            const charts = await google.colab.kernel.invokeFunction(\n",
              "                'suggestCharts', [key], {});\n",
              "          } catch (error) {\n",
              "            console.error('Error during call to suggestCharts:', error);\n",
              "          }\n",
              "          quickchartButtonEl.classList.remove('colab-df-spinner');\n",
              "          quickchartButtonEl.classList.add('colab-df-quickchart-complete');\n",
              "        }\n",
              "        (() => {\n",
              "          let quickchartButtonEl =\n",
              "            document.querySelector('#df-6ce7b01c-2c39-4e96-b5a3-87fd20d2401b button');\n",
              "          quickchartButtonEl.style.display =\n",
              "            google.colab.kernel.accessAllowed ? 'block' : 'none';\n",
              "        })();\n",
              "      </script>\n",
              "    </div>\n",
              "\n",
              "  <div id=\"id_16878f3b-48ee-4beb-afd8-bfd8e513d722\">\n",
              "    <style>\n",
              "      .colab-df-generate {\n",
              "        background-color: #E8F0FE;\n",
              "        border: none;\n",
              "        border-radius: 50%;\n",
              "        cursor: pointer;\n",
              "        display: none;\n",
              "        fill: #1967D2;\n",
              "        height: 32px;\n",
              "        padding: 0 0 0 0;\n",
              "        width: 32px;\n",
              "      }\n",
              "\n",
              "      .colab-df-generate:hover {\n",
              "        background-color: #E2EBFA;\n",
              "        box-shadow: 0px 1px 2px rgba(60, 64, 67, 0.3), 0px 1px 3px 1px rgba(60, 64, 67, 0.15);\n",
              "        fill: #174EA6;\n",
              "      }\n",
              "\n",
              "      [theme=dark] .colab-df-generate {\n",
              "        background-color: #3B4455;\n",
              "        fill: #D2E3FC;\n",
              "      }\n",
              "\n",
              "      [theme=dark] .colab-df-generate:hover {\n",
              "        background-color: #434B5C;\n",
              "        box-shadow: 0px 1px 3px 1px rgba(0, 0, 0, 0.15);\n",
              "        filter: drop-shadow(0px 1px 2px rgba(0, 0, 0, 0.3));\n",
              "        fill: #FFFFFF;\n",
              "      }\n",
              "    </style>\n",
              "    <button class=\"colab-df-generate\" onclick=\"generateWithVariable('df_labels')\"\n",
              "            title=\"Generate code using this dataframe.\"\n",
              "            style=\"display:none;\">\n",
              "\n",
              "  <svg xmlns=\"http://www.w3.org/2000/svg\" height=\"24px\"viewBox=\"0 0 24 24\"\n",
              "       width=\"24px\">\n",
              "    <path d=\"M7,19H8.4L18.45,9,17,7.55,7,17.6ZM5,21V16.75L18.45,3.32a2,2,0,0,1,2.83,0l1.4,1.43a1.91,1.91,0,0,1,.58,1.4,1.91,1.91,0,0,1-.58,1.4L9.25,21ZM18.45,9,17,7.55Zm-12,3A5.31,5.31,0,0,0,4.9,8.1,5.31,5.31,0,0,0,1,6.5,5.31,5.31,0,0,0,4.9,4.9,5.31,5.31,0,0,0,6.5,1,5.31,5.31,0,0,0,8.1,4.9,5.31,5.31,0,0,0,12,6.5,5.46,5.46,0,0,0,6.5,12Z\"/>\n",
              "  </svg>\n",
              "    </button>\n",
              "    <script>\n",
              "      (() => {\n",
              "      const buttonEl =\n",
              "        document.querySelector('#id_16878f3b-48ee-4beb-afd8-bfd8e513d722 button.colab-df-generate');\n",
              "      buttonEl.style.display =\n",
              "        google.colab.kernel.accessAllowed ? 'block' : 'none';\n",
              "\n",
              "      buttonEl.onclick = () => {\n",
              "        google.colab.notebook.generateWithVariable('df_labels');\n",
              "      }\n",
              "      })();\n",
              "    </script>\n",
              "  </div>\n",
              "\n",
              "    </div>\n",
              "  </div>\n"
            ],
            "application/vnd.google.colaboratory.intrinsic+json": {
              "type": "dataframe",
              "variable_name": "df_labels",
              "summary": "{\n  \"name\": \"df_labels\",\n  \"rows\": 106,\n  \"fields\": [\n    {\n      \"column\": \"video_name\",\n      \"properties\": {\n        \"dtype\": \"string\",\n        \"num_unique_values\": 106,\n        \"samples\": [\n          \"Copy of v52\",\n          \"Copy of vs19\",\n          \"Copy of vs13\"\n        ],\n        \"semantic_type\": \"\",\n        \"description\": \"\"\n      }\n    },\n    {\n      \"column\": \"label\",\n      \"properties\": {\n        \"dtype\": \"number\",\n        \"std\": 0,\n        \"min\": 0,\n        \"max\": 1,\n        \"num_unique_values\": 2,\n        \"samples\": [\n          0,\n          1\n        ],\n        \"semantic_type\": \"\",\n        \"description\": \"\"\n      }\n    }\n  ]\n}"
            }
          },
          "metadata": {},
          "execution_count": 25
        }
      ]
    },
    {
      "cell_type": "code",
      "source": [
        "X=df_labels['video_name']\n",
        "y=df_labels['label']"
      ],
      "metadata": {
        "id": "jyqmFw9Q6obb"
      },
      "execution_count": 26,
      "outputs": []
    },
    {
      "cell_type": "code",
      "source": [
        "from sklearn.model_selection import train_test_split\n",
        "X_train,X_test,y_train,y_test=train_test_split(X,y,test_size=0.2,random_state=42)"
      ],
      "metadata": {
        "id": "l5K-RW-36jXd"
      },
      "execution_count": 27,
      "outputs": []
    },
    {
      "cell_type": "code",
      "source": [
        "type(X_train)"
      ],
      "metadata": {
        "colab": {
          "base_uri": "https://localhost:8080/",
          "height": 603
        },
        "id": "gHgO6-eo622I",
        "outputId": "877ad59f-8f50-4eaa-f19e-175c5dd9de6c"
      },
      "execution_count": 16,
      "outputs": [
        {
          "output_type": "execute_result",
          "data": {
            "text/plain": [
              "pandas.core.series.Series"
            ],
            "text/html": [
              "<div style=\"max-width:800px; border: 1px solid var(--colab-border-color);\"><style>\n",
              "      pre.function-repr-contents {\n",
              "        overflow-x: auto;\n",
              "        padding: 8px 12px;\n",
              "        max-height: 500px;\n",
              "      }\n",
              "\n",
              "      pre.function-repr-contents.function-repr-contents-collapsed {\n",
              "        cursor: pointer;\n",
              "        max-height: 100px;\n",
              "      }\n",
              "    </style>\n",
              "    <pre style=\"white-space: initial; background:\n",
              "         var(--colab-secondary-surface-color); padding: 8px 12px;\n",
              "         border-bottom: 1px solid var(--colab-border-color);\"><b>pandas.core.series.Series</b><br/>def __init__(data=None, index=None, dtype: Dtype | None=None, name=None, copy: bool | None=None, fastpath: bool | lib.NoDefault=lib.no_default) -&gt; None</pre><pre class=\"function-repr-contents function-repr-contents-collapsed\" style=\"\"><a class=\"filepath\" style=\"display:none\" href=\"#\">/usr/local/lib/python3.11/dist-packages/pandas/core/series.py</a>One-dimensional ndarray with axis labels (including time series).\n",
              "\n",
              "Labels need not be unique but must be a hashable type. The object\n",
              "supports both integer- and label-based indexing and provides a host of\n",
              "methods for performing operations involving the index. Statistical\n",
              "methods from ndarray have been overridden to automatically exclude\n",
              "missing data (currently represented as NaN).\n",
              "\n",
              "Operations between Series (+, -, /, \\*, \\*\\*) align values based on their\n",
              "associated index values-- they need not be the same length. The result\n",
              "index will be the sorted union of the two indexes.\n",
              "\n",
              "Parameters\n",
              "----------\n",
              "data : array-like, Iterable, dict, or scalar value\n",
              "    Contains data stored in Series. If data is a dict, argument order is\n",
              "    maintained.\n",
              "index : array-like or Index (1d)\n",
              "    Values must be hashable and have the same length as `data`.\n",
              "    Non-unique index values are allowed. Will default to\n",
              "    RangeIndex (0, 1, 2, ..., n) if not provided. If data is dict-like\n",
              "    and index is None, then the keys in the data are used as the index. If the\n",
              "    index is not None, the resulting Series is reindexed with the index values.\n",
              "dtype : str, numpy.dtype, or ExtensionDtype, optional\n",
              "    Data type for the output Series. If not specified, this will be\n",
              "    inferred from `data`.\n",
              "    See the :ref:`user guide &lt;basics.dtypes&gt;` for more usages.\n",
              "name : Hashable, default None\n",
              "    The name to give to the Series.\n",
              "copy : bool, default False\n",
              "    Copy input data. Only affects Series or 1d ndarray input. See examples.\n",
              "\n",
              "Notes\n",
              "-----\n",
              "Please reference the :ref:`User Guide &lt;basics.series&gt;` for more information.\n",
              "\n",
              "Examples\n",
              "--------\n",
              "Constructing Series from a dictionary with an Index specified\n",
              "\n",
              "&gt;&gt;&gt; d = {&#x27;a&#x27;: 1, &#x27;b&#x27;: 2, &#x27;c&#x27;: 3}\n",
              "&gt;&gt;&gt; ser = pd.Series(data=d, index=[&#x27;a&#x27;, &#x27;b&#x27;, &#x27;c&#x27;])\n",
              "&gt;&gt;&gt; ser\n",
              "a   1\n",
              "b   2\n",
              "c   3\n",
              "dtype: int64\n",
              "\n",
              "The keys of the dictionary match with the Index values, hence the Index\n",
              "values have no effect.\n",
              "\n",
              "&gt;&gt;&gt; d = {&#x27;a&#x27;: 1, &#x27;b&#x27;: 2, &#x27;c&#x27;: 3}\n",
              "&gt;&gt;&gt; ser = pd.Series(data=d, index=[&#x27;x&#x27;, &#x27;y&#x27;, &#x27;z&#x27;])\n",
              "&gt;&gt;&gt; ser\n",
              "x   NaN\n",
              "y   NaN\n",
              "z   NaN\n",
              "dtype: float64\n",
              "\n",
              "Note that the Index is first build with the keys from the dictionary.\n",
              "After this the Series is reindexed with the given Index values, hence we\n",
              "get all NaN as a result.\n",
              "\n",
              "Constructing Series from a list with `copy=False`.\n",
              "\n",
              "&gt;&gt;&gt; r = [1, 2]\n",
              "&gt;&gt;&gt; ser = pd.Series(r, copy=False)\n",
              "&gt;&gt;&gt; ser.iloc[0] = 999\n",
              "&gt;&gt;&gt; r\n",
              "[1, 2]\n",
              "&gt;&gt;&gt; ser\n",
              "0    999\n",
              "1      2\n",
              "dtype: int64\n",
              "\n",
              "Due to input data type the Series has a `copy` of\n",
              "the original data even though `copy=False`, so\n",
              "the data is unchanged.\n",
              "\n",
              "Constructing Series from a 1d ndarray with `copy=False`.\n",
              "\n",
              "&gt;&gt;&gt; r = np.array([1, 2])\n",
              "&gt;&gt;&gt; ser = pd.Series(r, copy=False)\n",
              "&gt;&gt;&gt; ser.iloc[0] = 999\n",
              "&gt;&gt;&gt; r\n",
              "array([999,   2])\n",
              "&gt;&gt;&gt; ser\n",
              "0    999\n",
              "1      2\n",
              "dtype: int64\n",
              "\n",
              "Due to input data type the Series has a `view` on\n",
              "the original data, so\n",
              "the data is changed as well.</pre>\n",
              "      <script>\n",
              "      if (google.colab.kernel.accessAllowed && google.colab.files && google.colab.files.view) {\n",
              "        for (const element of document.querySelectorAll('.filepath')) {\n",
              "          element.style.display = 'block'\n",
              "          element.onclick = (event) => {\n",
              "            event.preventDefault();\n",
              "            event.stopPropagation();\n",
              "            google.colab.files.view(element.textContent, 263);\n",
              "          };\n",
              "        }\n",
              "      }\n",
              "      for (const element of document.querySelectorAll('.function-repr-contents')) {\n",
              "        element.onclick = (event) => {\n",
              "          event.preventDefault();\n",
              "          event.stopPropagation();\n",
              "          element.classList.toggle('function-repr-contents-collapsed');\n",
              "        };\n",
              "      }\n",
              "      </script>\n",
              "      </div>"
            ]
          },
          "metadata": {},
          "execution_count": 16
        }
      ]
    },
    {
      "cell_type": "code",
      "source": [
        "X_train.size"
      ],
      "metadata": {
        "colab": {
          "base_uri": "https://localhost:8080/"
        },
        "id": "d2fGTX9w7Lz3",
        "outputId": "4c7beaf3-ab4e-464d-c6aa-55998926ded3"
      },
      "execution_count": 29,
      "outputs": [
        {
          "output_type": "execute_result",
          "data": {
            "text/plain": [
              "84"
            ]
          },
          "metadata": {},
          "execution_count": 29
        }
      ]
    },
    {
      "cell_type": "code",
      "source": [
        "import torch\n",
        "import torchvision\n",
        "from torchvision import transforms\n",
        "from torch.utils.data import DataLoader\n",
        "from torch.utils.data.dataset import Dataset\n",
        "import os\n",
        "import numpy as np\n",
        "import cv2\n",
        "import matplotlib.pyplot as plt\n"
      ],
      "metadata": {
        "id": "StoiM3X57UcY"
      },
      "execution_count": 32,
      "outputs": []
    },
    {
      "cell_type": "code",
      "source": [
        "!pip install face_recognition"
      ],
      "metadata": {
        "colab": {
          "base_uri": "https://localhost:8080/"
        },
        "id": "qZFLqLzB8dV6",
        "outputId": "84e83f40-ed5c-4e0e-b229-6132ce72ce3f"
      },
      "execution_count": 33,
      "outputs": [
        {
          "output_type": "stream",
          "name": "stdout",
          "text": [
            "Collecting face_recognition\n",
            "  Downloading face_recognition-1.3.0-py2.py3-none-any.whl.metadata (21 kB)\n",
            "Collecting face-recognition-models>=0.3.0 (from face_recognition)\n",
            "  Downloading face_recognition_models-0.3.0.tar.gz (100.1 MB)\n",
            "\u001b[2K     \u001b[90m━━━━━━━━━━━━━━━━━━━━━━━━━━━━━━━━━━━━━━━\u001b[0m \u001b[32m100.1/100.1 MB\u001b[0m \u001b[31m9.2 MB/s\u001b[0m eta \u001b[36m0:00:00\u001b[0m\n",
            "\u001b[?25h  Preparing metadata (setup.py) ... \u001b[?25l\u001b[?25hdone\n",
            "Requirement already satisfied: Click>=6.0 in /usr/local/lib/python3.11/dist-packages (from face_recognition) (8.2.0)\n",
            "Requirement already satisfied: dlib>=19.7 in /usr/local/lib/python3.11/dist-packages (from face_recognition) (19.24.6)\n",
            "Requirement already satisfied: numpy in /usr/local/lib/python3.11/dist-packages (from face_recognition) (2.0.2)\n",
            "Requirement already satisfied: Pillow in /usr/local/lib/python3.11/dist-packages (from face_recognition) (11.2.1)\n",
            "Downloading face_recognition-1.3.0-py2.py3-none-any.whl (15 kB)\n",
            "Building wheels for collected packages: face-recognition-models\n",
            "  Building wheel for face-recognition-models (setup.py) ... \u001b[?25l\u001b[?25hdone\n",
            "  Created wheel for face-recognition-models: filename=face_recognition_models-0.3.0-py2.py3-none-any.whl size=100566166 sha256=d1dc4310706cdb4726d26e8366c6b39c3b698cdc99eec5c15e8c8561e046d952\n",
            "  Stored in directory: /root/.cache/pip/wheels/04/52/ec/9355da79c29f160b038a20c784db2803c2f9fa2c8a462c176a\n",
            "Successfully built face-recognition-models\n",
            "Installing collected packages: face-recognition-models, face_recognition\n",
            "Successfully installed face-recognition-models-0.3.0 face_recognition-1.3.0\n"
          ]
        }
      ]
    },
    {
      "cell_type": "code",
      "source": [
        "import pandas as pd\n",
        "import os\n",
        "\n",
        "# Load CSV\n",
        "df = pd.read_csv(\"/content/drive/MyDrive/cropped_face_videos/labels.csv\")\n",
        "\n",
        "# Convert labels: 'FAKE' -> 0, 'REAL' -> 1\n",
        "df['label'] = df['label'].apply(lambda x: 0 if x == 'FAKE' else 1)\n",
        "\n",
        "# Create dictionary: key = filename without extension, value = label\n",
        "label_dict = dict(zip(df['video_name'].apply(lambda x: os.path.splitext(x)[0]), df['label']))\n",
        "\n",
        "print(label_dict)\n"
      ],
      "metadata": {
        "colab": {
          "base_uri": "https://localhost:8080/"
        },
        "id": "JA9FoacC8pCR",
        "outputId": "ef4abc72-ad66-468c-ac5c-e3f7d12c30e8"
      },
      "execution_count": 37,
      "outputs": [
        {
          "output_type": "stream",
          "name": "stdout",
          "text": [
            "{'Copy of vs1': 1, 'Copy of vs10': 1, 'Copy of vs11': 1, 'Copy of vs12': 1, 'Copy of vs13': 1, 'Copy of vs14': 1, 'Copy of vs15': 1, 'Copy of vs16': 1, 'Copy of vs17': 1, 'Copy of vs18': 1, 'Copy of vs19': 1, 'Copy of vs2': 1, 'Copy of vs20': 1, 'Copy of vs21': 1, 'Copy of vs22': 1, 'Copy of vs23': 1, 'Copy of vs24': 1, 'Copy of vs25': 1, 'Copy of vs26': 1, 'Copy of vs27': 1, 'Copy of vs28': 1, 'Copy of vs29': 1, 'Copy of vs3': 1, 'Copy of vs30': 1, 'Copy of vs31': 1, 'Copy of vs32': 1, 'Copy of vs33': 1, 'Copy of vs34': 1, 'Copy of vs35': 1, 'Copy of vs36': 1, 'Copy of vs37': 1, 'Copy of vs38': 1, 'Copy of vs39': 1, 'Copy of vs4': 1, 'Copy of vs40': 1, 'Copy of vs41': 1, 'Copy of vs42': 1, 'Copy of vs43': 1, 'Copy of vs44': 1, 'Copy of vs45': 1, 'Copy of vs46': 1, 'Copy of vs47': 1, 'Copy of vs48': 1, 'Copy of vs49': 1, 'Copy of vs5': 1, 'Copy of vs50': 1, 'Copy of vs51': 1, 'Copy of vs52': 1, 'Copy of vs53': 1, 'Copy of vs6': 1, 'Copy of vs7': 1, 'Copy of vs8': 1, 'Copy of vs9': 1, 'Copy of v1': 1, 'Copy of v10': 1, 'Copy of v11': 1, 'Copy of v12': 1, 'Copy of v13': 1, 'Copy of v14': 1, 'Copy of v15': 1, 'Copy of v16': 1, 'Copy of v17': 1, 'Copy of v18': 1, 'Copy of v19': 1, 'Copy of v2': 1, 'Copy of v20': 1, 'Copy of v21': 1, 'Copy of v22': 1, 'Copy of v23': 1, 'Copy of v24': 1, 'Copy of v25': 1, 'Copy of v26': 1, 'Copy of v27': 1, 'Copy of v28': 1, 'Copy of v29': 1, 'Copy of v3': 1, 'Copy of v30': 1, 'Copy of v31': 1, 'Copy of v32': 1, 'Copy of v33': 1, 'Copy of v34': 1, 'Copy of v35': 1, 'Copy of v36': 1, 'Copy of v37': 1, 'Copy of v38': 1, 'Copy of v39': 1, 'Copy of v4': 1, 'Copy of v40': 1, 'Copy of v41': 1, 'Copy of v42': 1, 'Copy of v43': 1, 'Copy of v44': 1, 'Copy of v45': 1, 'Copy of v46': 1, 'Copy of v47': 1, 'Copy of v48': 1, 'Copy of v49': 1, 'Copy of v5': 1, 'Copy of v50': 1, 'Copy of v51': 1, 'Copy of v52': 1, 'Copy of v53': 1, 'Copy of v6': 1, 'Copy of v7': 1, 'Copy of v8': 1, 'Copy of v9': 1}\n"
          ]
        }
      ]
    },
    {
      "cell_type": "code",
      "source": [
        "class VideoDataSet(Dataset):\n",
        "  def __init__(self, video_paths,label_dict,sequence_length=100, transform=None):\n",
        "    self.video_paths = video_paths\n",
        "    self.label_dict = label_dict\n",
        "    self.transform = transform\n",
        "    self.seq_length=sequence_length\n",
        "\n",
        "  def __len__():\n",
        "    return len(self.video_paths)\n",
        "  def __getitem__(self, index):\n",
        "      path = self.video_paths[index]\n",
        "      video_name = os.path.splitext(os.path.basename(path))[0]\n",
        "      label = self.label_dict.get(video_name, -1)  # default -1 if not found\n",
        "      frames = self.extract_frames(path)   #its an array of 224x224x3 images\n",
        "      video_tensor = torch.tensor(np.stack(frames), dtype=torch.float32)  # shape: (seq_len, H, W, C)\n",
        "      return video_tensor, label\n",
        "  def extract_frames(self, path):\n",
        "        cap = cv2.VideoCapture(path)\n",
        "        frames = []\n",
        "\n",
        "        while len(frames) < self.seq_length:\n",
        "            success, frame = cap.read()\n",
        "            if not success:\n",
        "                break\n",
        "            frame = cv2.resize(frame, self.frame_size)\n",
        "            frames.append(frame)\n",
        "\n",
        "        cap.release()\n",
        "        return frames\n",
        "\n",
        "\n",
        "\n"
      ],
      "metadata": {
        "id": "Q2bob-naBLI6"
      },
      "execution_count": 39,
      "outputs": []
    }
  ]
}